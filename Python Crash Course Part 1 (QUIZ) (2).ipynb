{
 "cells": [
  {
   "cell_type": "code",
   "execution_count": 1,
   "metadata": {},
   "outputs": [
    {
     "name": "stdout",
     "output_type": "stream",
     "text": [
      "5\n"
     ]
    }
   ],
   "source": [
    "# QUIZ 1\n",
    "\n",
    "#ข้อ 1: เขียนคำสั่งคำนวณหาเศษเหลือจากการหาร 2345 ด้วย 13\n",
    "ans1 = 2345%13\n",
    "print(ans1)"
   ]
  },
  {
   "cell_type": "code",
   "execution_count": 2,
   "metadata": {},
   "outputs": [
    {
     "name": "stdout",
     "output_type": "stream",
     "text": [
      "92\n"
     ]
    }
   ],
   "source": [
    "#ข้อ 2: เขียนคำสั่งหาคำตอบจากการหาร 1567 ด้วย 17 โดยไม่เอาเศษส่วน\n",
    "ans2 = 1567//17\n",
    "print(ans2)"
   ]
  },
  {
   "cell_type": "code",
   "execution_count": null,
   "metadata": {},
   "outputs": [],
   "source": [
    "#ข้อ 3: FirstName กับ Firstname เป็นตัวแปรเดียวกันหรือไม่\n",
    "answer: FirstName and Firstname are not the same variable because Python is case sensitive. So, it means lowercase and uppercase are different\n",
    "meaning for Python."
   ]
  },
  {
   "cell_type": "code",
   "execution_count": null,
   "metadata": {},
   "outputs": [],
   "source": [
    "#ข้อ 4: 13Friday เป็นตัวแปรที่ถูกต้องหรือไม่\n",
    "answer: 13Friday is incorrect variable because variables in Python have to start with letter first."
   ]
  },
  {
   "cell_type": "code",
   "execution_count": 4,
   "metadata": {},
   "outputs": [
    {
     "name": "stdout",
     "output_type": "stream",
     "text": [
      "result1 = 5 and result2 = 92\n"
     ]
    }
   ],
   "source": [
    "#ข้อ 5: จง print ผลลัพธ์จากข้อ 1,2 โดยใช้คำสั่ง format\n",
    "print('result1 = {} and result2 = {}'.format(ans1,ans2))"
   ]
  },
  {
   "cell_type": "code",
   "execution_count": 1,
   "metadata": {},
   "outputs": [],
   "source": [
    "#QUIZ 2\n",
    "\n",
    "#ข้อ 1: เขียนฟังก์ชันไม่มีชื่อให้รับพารามิเตอร์ 1 ตัว และ print ค่านั้นหารด้วย 3\n",
    "result = lambda a: a*a"
   ]
  },
  {
   "cell_type": "code",
   "execution_count": 4,
   "metadata": {},
   "outputs": [
    {
     "name": "stdout",
     "output_type": "stream",
     "text": [
      "27.0\n"
     ]
    }
   ],
   "source": [
    "print(result(9)/3)"
   ]
  },
  {
   "cell_type": "code",
   "execution_count": 8,
   "metadata": {},
   "outputs": [],
   "source": [
    "#ข้อ 2: เขียนฟังก์ชันธรรมดารับค่า 4 พารามิเตอร์ และหาค่าเฉลี่ย (Named Fn.)\n",
    "def findmean(a,b,c,d):\n",
    "    ans = (a+b+c+d)/4\n",
    "    return ans"
   ]
  },
  {
   "cell_type": "code",
   "execution_count": 15,
   "metadata": {},
   "outputs": [
    {
     "name": "stdout",
     "output_type": "stream",
     "text": [
      "25.0\n"
     ]
    }
   ],
   "source": [
    "output = findmean(10,20,30,40)\n",
    "print(output)"
   ]
  },
  {
   "cell_type": "code",
   "execution_count": 18,
   "metadata": {},
   "outputs": [],
   "source": [
    "#ข้อ 2: เขียนฟังก์ชันธรรมดารับค่า 4 พารามิเตอร์ และหาค่าเฉลี่ย (Lambda Fn.)\n",
    "fnc = lambda e,f,g,h: (e+f+g+h)/4"
   ]
  },
  {
   "cell_type": "code",
   "execution_count": 20,
   "metadata": {},
   "outputs": [
    {
     "name": "stdout",
     "output_type": "stream",
     "text": [
      "25.0\n"
     ]
    }
   ],
   "source": [
    "output2 = fnc(10,20,30,40)\n",
    "print(output2)"
   ]
  },
  {
   "cell_type": "code",
   "execution_count": 12,
   "metadata": {},
   "outputs": [],
   "source": [
    "#ข้อ 3 เขียนฟังก์ชันไม่มีชื่อให้รับพารามิเตอร์ 3 ตัว และหาค่าเฉลี่ย\n",
    "fn = lambda w,x,y,z: w*x*y*z if z > 5 else w+x+y+z"
   ]
  },
  {
   "cell_type": "code",
   "execution_count": 13,
   "metadata": {},
   "outputs": [
    {
     "name": "stdout",
     "output_type": "stream",
     "text": [
      "3024\n"
     ]
    }
   ],
   "source": [
    "result2 = fn(6,7,8,9)\n",
    "print(result2)"
   ]
  },
  {
   "cell_type": "code",
   "execution_count": 14,
   "metadata": {},
   "outputs": [
    {
     "data": {
      "text/plain": [
       "10"
      ]
     },
     "execution_count": 14,
     "metadata": {},
     "output_type": "execute_result"
    }
   ],
   "source": [
    "(lambda w,x,y,z: w*x*y*z if z > 5 else w+x+y+z)(1,2,3,4)"
   ]
  },
  {
   "cell_type": "code",
   "execution_count": 48,
   "metadata": {},
   "outputs": [
    {
     "name": "stdout",
     "output_type": "stream",
     "text": [
      "['Tanwarat', 'Jarasrungrojkul', 23]\n"
     ]
    }
   ],
   "source": [
    "#QUIZ 3\n",
    "#ข้อ 1: สร้างลิสต์ระบุชื่อ นามสกุล อายุตนเอง\n",
    "mylist = ['Tanwarat', 'Jarasrungrojkul', 23]\n",
    "print(mylist)"
   ]
  },
  {
   "cell_type": "code",
   "execution_count": 49,
   "metadata": {},
   "outputs": [
    {
     "name": "stdout",
     "output_type": "stream",
     "text": [
      "['Tanwarat', 'Jarasrungrojkul']\n"
     ]
    }
   ],
   "source": [
    "#ข้อ 2: ลบอายุออกจากลิสต์\n",
    "del mylist[2]\n",
    "print(mylist)"
   ]
  },
  {
   "cell_type": "code",
   "execution_count": 50,
   "metadata": {},
   "outputs": [
    {
     "name": "stdout",
     "output_type": "stream",
     "text": [
      "[13, 'Tanwarat', 'Jarasrungrojkul']\n"
     ]
    }
   ],
   "source": [
    "#ข้อ 3: ลดอายุตัวเอง 10 ปี และแทรกไว้หน้าสุดของลิสต์\n",
    "mylist.insert(0,13)\n",
    "print(mylist)"
   ]
  },
  {
   "cell_type": "code",
   "execution_count": 51,
   "metadata": {},
   "outputs": [
    {
     "name": "stdout",
     "output_type": "stream",
     "text": [
      "[13, 'Tanwarat', 'Jarasrungrojkul', 158]\n"
     ]
    }
   ],
   "source": [
    "#ข้อ 4 เพิ่มส่วนสูง น้ำหนักลงในลิสต์ โดยไปต่อท้าย\n",
    "mylist.append(158)\n",
    "print(mylist)"
   ]
  },
  {
   "cell_type": "code",
   "execution_count": 52,
   "metadata": {},
   "outputs": [
    {
     "name": "stdout",
     "output_type": "stream",
     "text": [
      "[13, 'Tanwarat', 'Jarasrungrojkul', 158, 55]\n"
     ]
    }
   ],
   "source": [
    "mylist.append(55)\n",
    "print(mylist)"
   ]
  },
  {
   "cell_type": "code",
   "execution_count": 53,
   "metadata": {},
   "outputs": [
    {
     "name": "stdout",
     "output_type": "stream",
     "text": [
      "['Jarasrungrojkul', 158, 55]\n"
     ]
    }
   ],
   "source": [
    "#ข้อ 5: print สมาชิกในลิสต์ตัวที่ 3 ถึงตัวสุดท้าย\n",
    "print(mylist[2:])"
   ]
  },
  {
   "cell_type": "code",
   "execution_count": 54,
   "metadata": {},
   "outputs": [],
   "source": [
    "#QUIZ 4\n",
    "#ข้อ 1: a = [[[1,3],[3,4]],[5,[5,6],[7,8]]] แล้ว a = [1][1][1] คือค่าใด\n",
    "\n",
    "a = [[[1,3],[3,4]],[5,[5,6],[7,8]]] "
   ]
  },
  {
   "cell_type": "code",
   "execution_count": 56,
   "metadata": {},
   "outputs": [
    {
     "name": "stdout",
     "output_type": "stream",
     "text": [
      "[[[1, 3], [3, 4]], [5, [5, 6], [7, 8]]]\n"
     ]
    }
   ],
   "source": [
    "print(a)"
   ]
  },
  {
   "cell_type": "code",
   "execution_count": 57,
   "metadata": {},
   "outputs": [
    {
     "data": {
      "text/plain": [
       "6"
      ]
     },
     "execution_count": 57,
     "metadata": {},
     "output_type": "execute_result"
    }
   ],
   "source": [
    "a[1][1][1]"
   ]
  },
  {
   "cell_type": "code",
   "execution_count": 58,
   "metadata": {},
   "outputs": [],
   "source": [
    "#ข้อ 2: เขียนชื่อ นามสกุล อายุ อยู้ในลิสต์เดียวของคน 4 คน แล้วใส่ไว้ในลิสต์ (Nested List) และแสดงผล\n",
    "first = ['Tanwarat', 'Jarasrungrojkul', 23]\n",
    "second = ['Naruto', 'Uzumaki', 17]\n",
    "third = ['Sasuke', 'Uchiha', 17]\n",
    "forth = ['Sakura', 'Haruno', 17]"
   ]
  },
  {
   "cell_type": "code",
   "execution_count": 59,
   "metadata": {},
   "outputs": [],
   "source": [
    "name_all = [first, second, third, forth]"
   ]
  },
  {
   "cell_type": "code",
   "execution_count": 60,
   "metadata": {},
   "outputs": [
    {
     "name": "stdout",
     "output_type": "stream",
     "text": [
      "[['Tanwarat', 'Jarasrungrojkul', 23], ['Naruto', 'Uzumaki', 17], ['Sasuke', 'Uchiha', 17], ['Sakura', 'Haruno', 17]]\n"
     ]
    }
   ],
   "source": [
    "print(name_all)"
   ]
  },
  {
   "cell_type": "code",
   "execution_count": 61,
   "metadata": {},
   "outputs": [],
   "source": [
    "#ข้อ 3: ลบคนสุดท้ายของลิสต์นั้นออกและแสดงผล\n",
    "del name_all[3]"
   ]
  },
  {
   "cell_type": "code",
   "execution_count": 62,
   "metadata": {},
   "outputs": [
    {
     "name": "stdout",
     "output_type": "stream",
     "text": [
      "[['Tanwarat', 'Jarasrungrojkul', 23], ['Naruto', 'Uzumaki', 17], ['Sasuke', 'Uchiha', 17]]\n"
     ]
    }
   ],
   "source": [
    "print(name_all)"
   ]
  },
  {
   "cell_type": "code",
   "execution_count": null,
   "metadata": {},
   "outputs": [],
   "source": [
    "#ข้อ 4: เพิ่มคนที่ 5 เข้ามาเป็นคนแรกของ Nested List และแสดงผล\n",
    "name_all.insert(0,['Kakashi', 'Hatake', 32])"
   ]
  },
  {
   "cell_type": "code",
   "execution_count": 64,
   "metadata": {},
   "outputs": [
    {
     "name": "stdout",
     "output_type": "stream",
     "text": [
      "[['Kakashi', 'Hatake', 32], ['Tanwarat', 'Jarasrungrojkul', 23], ['Naruto', 'Uzumaki', 17], ['Sasuke', 'Uchiha', 17]]\n"
     ]
    }
   ],
   "source": [
    "print(name_all)"
   ]
  },
  {
   "cell_type": "code",
   "execution_count": 65,
   "metadata": {},
   "outputs": [
    {
     "name": "stdout",
     "output_type": "stream",
     "text": [
      "[['Kakashi', 'Hatake', 32], ['Tanwarat', 'Jarasrungrojkul', 33], ['Naruto', 'Uzumaki', 17], ['Sasuke', 'Uchiha', 17]]\n"
     ]
    }
   ],
   "source": [
    "#ข้อ 5: แก้ไขอายุคนที่สอง +10 และแสดงผล\n",
    "name_all[1][2] = 33\n",
    "print(name_all)"
   ]
  },
  {
   "cell_type": "code",
   "execution_count": 71,
   "metadata": {},
   "outputs": [
    {
     "name": "stdout",
     "output_type": "stream",
     "text": [
      "<map object at 0x000001714F077788>\n",
      "[1, 8, 27, 64, 125, 216, 343, 512, 729, 1000]\n"
     ]
    }
   ],
   "source": [
    "#QUIZ 5\n",
    "#ข้อ 1: กำหนดให้ lst = [1,2,3,4,5,6,7,8,9,10] จงเขียน Map เพื่อหาเลขยกกำลังสามทั้งหมดของ lst ในรูปแบบ Lambda Function และ ฟังก์ชันธรรมดา\n",
    "#Lambda Function\n",
    "lst = [1,2,3,4,5,6,7,8,9,10]\n",
    "answer = map(lambda x:x**3, lst)\n",
    "print(answer)\n",
    "print(list(answer))"
   ]
  },
  {
   "cell_type": "code",
   "execution_count": 72,
   "metadata": {},
   "outputs": [],
   "source": [
    "#ฟังก์ชันธรรมดา\n",
    "def func(a):\n",
    "    return a**3"
   ]
  },
  {
   "cell_type": "code",
   "execution_count": 73,
   "metadata": {},
   "outputs": [
    {
     "name": "stdout",
     "output_type": "stream",
     "text": [
      "[1, 8, 27, 64, 125, 216, 343, 512, 729, 1000]\n"
     ]
    }
   ],
   "source": [
    "lst = [1,2,3,4,5,6,7,8,9,10]\n",
    "print(list(map(func,lst)))"
   ]
  },
  {
   "cell_type": "code",
   "execution_count": 74,
   "metadata": {},
   "outputs": [
    {
     "name": "stdout",
     "output_type": "stream",
     "text": [
      "[1, 3, 5, 7, 9]\n"
     ]
    }
   ],
   "source": [
    "#ข้อ 2: กำหนดให้ lst = [1,2,3,4,5,6,7,8,9,10] จงเขียน Filter เพื่อหาว่าเลขใดในลิสต์เมื่อยกกำลังสองแล้วหารสองไม่ลงตัว ในรูปแบบ Lambda Fumction และฟังก์ชันธรรมดา\n",
    "#Lambda Function\n",
    "lst = [1,2,3,4,5,6,7,8,9,10]\n",
    "result_list = filter(lambda x: ((x**2)%2 != 0), lst)\n",
    "print(list(result_list))"
   ]
  },
  {
   "cell_type": "code",
   "execution_count": 77,
   "metadata": {},
   "outputs": [],
   "source": [
    "#ฟังก์ชันธรรมดา\n",
    "def func(y):\n",
    "    return ((y**2)%2 != 0)"
   ]
  },
  {
   "cell_type": "code",
   "execution_count": 78,
   "metadata": {},
   "outputs": [
    {
     "name": "stdout",
     "output_type": "stream",
     "text": [
      "[1, 3, 5, 7, 9]\n"
     ]
    }
   ],
   "source": [
    "lst = [1,2,3,4,5,6,7,8,9,10]\n",
    "print(list(filter(func,lst)))"
   ]
  },
  {
   "cell_type": "code",
   "execution_count": 79,
   "metadata": {},
   "outputs": [
    {
     "name": "stdout",
     "output_type": "stream",
     "text": [
      "[1, 3, 5, 7, 9]\n"
     ]
    }
   ],
   "source": [
    "#QUIZ 6\n",
    "#ข้อ 1: กำหนดให้ lst = [1,2,3,4,5] เขียน List Comprehension เพื่อนำทุกตัวใน lst ไปคูณ 2 และลบด้วย 1 พร้อมแสดงผล\n",
    "lst1 = [1,2,3,4,5]\n",
    "lst2 = [(a*2)-1 for a in lst1]\n",
    "print(lst2)"
   ]
  },
  {
   "cell_type": "code",
   "execution_count": 81,
   "metadata": {},
   "outputs": [
    {
     "name": "stdout",
     "output_type": "stream",
     "text": [
      "[1, 8, 64, 125, 343, 512, 1000, 1331, 2197]\n"
     ]
    }
   ],
   "source": [
    "#ข้อ 2: กำหนด lst = [1,2,3,4,5,6,7,8,9,10,11,12,13] เขียน List Comprehension เพื่อหาตัวที่หาร 3 ไม่ลงตัว และนำผลไปยกกำลัง 3 พร้อมแสดงผล\n",
    "lst3 = [1,2,3,4,5,6,7,8,9,10,11,12,13]\n",
    "lst4 = [b ** 3 for b in lst3 if b%3 != 0]\n",
    "print(lst4)"
   ]
  },
  {
   "cell_type": "code",
   "execution_count": 84,
   "metadata": {},
   "outputs": [
    {
     "name": "stdout",
     "output_type": "stream",
     "text": [
      "grade A\n"
     ]
    }
   ],
   "source": [
    "#QUIZ 7\n",
    "#ข้อ 1: เขียนโปรแกรมตรวจสอบคะแนนเด็กนักเรียน ถ้าเด็กได้มากกว่า 80 ได้ A มากกว่า 70 ได้ B มากกว่า 60 ได้ C มากกว่า 50 ได้ D และต่ำกว่า 50 ได้ F\n",
    "score = 85\n",
    "if (score > 80):\n",
    "    print('grade A')\n",
    "elif (score > 70):\n",
    "    print('grade B')\n",
    "elif (score > 60):\n",
    "    print('grade C')\n",
    "elif (score > 50):\n",
    "    print('grade D')\n",
    "else:\n",
    "    print('grade F')"
   ]
  },
  {
   "cell_type": "code",
   "execution_count": 1,
   "metadata": {},
   "outputs": [
    {
     "name": "stdout",
     "output_type": "stream",
     "text": [
      "[2, 9, 1, 81, 32]\n"
     ]
    }
   ],
   "source": [
    "#QUIZ 8\n",
    "#ข้อ 1: กำหนด A = [1,2,3,4,5] and B = [2,3,1,3,2] เขียน Map แบบ Multiple-list Operations โดยให้ B**A พร้อมแสดงผล\n",
    "\n",
    "A = [1,2,3,4,5]\n",
    "B = [2,3,1,3,2]\n",
    "\n",
    "C = map(lambda a,b: b**a, A, B)\n",
    "print(list(C))"
   ]
  },
  {
   "cell_type": "code",
   "execution_count": 6,
   "metadata": {},
   "outputs": [
    {
     "name": "stdout",
     "output_type": "stream",
     "text": [
      "[('Sun', 1, 88), ('Moon', 2, 92), ('Star', 3, 76), ('Rainbow', 4, 95)]\n"
     ]
    }
   ],
   "source": [
    "#ข้อ 2: เขียนชื่อนักเรียน เลขที่ และคะแนนสอบไฟนอล พร้อมใช้คำสั่ง Zip() ในการจับคู่ พร้อมแสดงผล\n",
    "student_name = ['Sun', 'Moon', 'Star', 'Rainbow']\n",
    "student_no = [1, 2, 3, 4]\n",
    "student_score = [88, 92, 76, 95]\n",
    "\n",
    "student_all = list(zip(student_name, student_no, student_score))\n",
    "print(student_all)"
   ]
  },
  {
   "cell_type": "code",
   "execution_count": 7,
   "metadata": {},
   "outputs": [
    {
     "name": "stdout",
     "output_type": "stream",
     "text": [
      "244140625\n"
     ]
    }
   ],
   "source": [
    "#QUIZ 9\n",
    "#ข้อ 1: กำหนด lst = [5,2,1,3,2] เขียนฟังก์ชัน Reduce เพื่อหาผลลัพธ์สุดท้ายของการดำเนินการแบบเลขยกกำลัง\n",
    "\n",
    "from functools import reduce\n",
    "lst = [5,2,1,3,2]\n",
    "output = reduce((lambda a,b: a**b), lst)\n",
    "print(output)"
   ]
  },
  {
   "cell_type": "code",
   "execution_count": 8,
   "metadata": {},
   "outputs": [
    {
     "name": "stdout",
     "output_type": "stream",
     "text": [
      "3628800\n"
     ]
    }
   ],
   "source": [
    "#ข้อ 2: กำหนด lst = [1,2,3,4,5,6,7,8,9,10] เขียนฟังก์ชัน Reduce เพื่อหาผลลัพธ์สุดท้ายของการดำเนินการแบบคูณ\n",
    "\n",
    "from functools import reduce\n",
    "lst = [1,2,3,4,5,6,7,8,9,10]\n",
    "output2 = reduce((lambda c,d: c*d), lst)\n",
    "print(output2)"
   ]
  },
  {
   "cell_type": "code",
   "execution_count": null,
   "metadata": {},
   "outputs": [],
   "source": []
  }
 ],
 "metadata": {
  "kernelspec": {
   "display_name": "Python 3",
   "language": "python",
   "name": "python3"
  },
  "language_info": {
   "codemirror_mode": {
    "name": "ipython",
    "version": 3
   },
   "file_extension": ".py",
   "mimetype": "text/x-python",
   "name": "python",
   "nbconvert_exporter": "python",
   "pygments_lexer": "ipython3",
   "version": "3.7.7"
  }
 },
 "nbformat": 4,
 "nbformat_minor": 4
}
